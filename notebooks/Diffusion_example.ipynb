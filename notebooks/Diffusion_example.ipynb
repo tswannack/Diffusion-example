{
 "cells": [
  {
   "cell_type": "markdown",
   "id": "fc119473-1738-4ec1-8b67-0b9811b9b36a",
   "metadata": {},
   "source": [
    "# A 1D diffusion model"
   ]
  },
  {
   "cell_type": "markdown",
   "id": "406bf93f-78c3-465a-8bec-31b1841b797c",
   "metadata": {},
   "source": [
    "Developing a one D model of diffusion. It assumes a constant diffusivity. It uses a regular grid and fixed boundary conditions"
   ]
  },
  {
   "cell_type": "markdown",
   "id": "a932ce1c-7503-4e79-95dd-d5f512b04ccd",
   "metadata": {},
   "source": [
    "The diffusion equation:\n",
    "$$ \\frac{\\partial C}{\\partial t} = D\\frac{\\partial^2 C}{\\partial x^2} $$\n",
    "The discretized version of the diffusion equation that we'll solve with our model:\n",
    "$$ C^{t+1}_x = C^t_x + {D \\Delta t \\over \\Delta x^2} (C^t_{x+1} - 2C^t_x + C^t_{x-1}) $$\n",
    "This is the explicit FTCS scheme as described in Slingerland and Kump (2011). (Or see Wikipedia.)\n"
   ]
  },
  {
   "cell_type": "markdown",
   "id": "8cde85a5-8c1c-47ad-919c-b99caca23823",
   "metadata": {},
   "source": [
    "We will use to libraries, Numpy (for arrays) and Matplotlib (for plotting) that aren't part of the base python distribution"
   ]
  },
  {
   "cell_type": "code",
   "execution_count": null,
   "id": "180d8a15-b182-4553-bdb6-ebf8ff9e979c",
   "metadata": {},
   "outputs": [],
   "source": [
    "import numpy as np\n",
    "import matplotlib.pyplot as plt "
   ]
  },
  {
   "cell_type": "markdown",
   "id": "93a8ce5f-95ad-47f3-9d8f-f8b5b1555ec4",
   "metadata": {},
   "source": [
    "Set two fixed model parameters. The diffusivity and the size of model domain"
   ]
  },
  {
   "cell_type": "code",
   "execution_count": null,
   "id": "b26f8109-42c0-42af-80ae-f655c719138a",
   "metadata": {},
   "outputs": [],
   "source": [
    "D = 100\n",
    "Lx = 300"
   ]
  },
  {
   "cell_type": "markdown",
   "id": "0cd582ab-a1f0-4283-8c3d-a5fbbbb19d3b",
   "metadata": {},
   "source": [
    "Next, set up the model grid using a NumPy array"
   ]
  },
  {
   "cell_type": "code",
   "execution_count": null,
   "id": "2583820e-cf35-4896-884b-9396ffe97d41",
   "metadata": {},
   "outputs": [],
   "source": [
    "dx = 0.5\n",
    "x = np.arange(start=0, stop=Lx, step=dx)\n",
    "nx = len(x)"
   ]
  },
  {
   "cell_type": "code",
   "execution_count": null,
   "id": "ad0f1574-b395-4280-be58-b00548e7ace2",
   "metadata": {},
   "outputs": [],
   "source": [
    "whos"
   ]
  },
  {
   "cell_type": "code",
   "execution_count": null,
   "id": "e037dca9-4015-47f6-a900-fe06fe0ba534",
   "metadata": {},
   "outputs": [],
   "source": [
    "x[nx-1]"
   ]
  },
  {
   "cell_type": "code",
   "execution_count": null,
   "id": "676756e7-817a-42ac-a813-cbe5956c68e6",
   "metadata": {},
   "outputs": [],
   "source": [
    "x[-1]"
   ]
  },
  {
   "cell_type": "code",
   "execution_count": null,
   "id": "b15507e9-711d-48fa-b41e-75cc488baa3f",
   "metadata": {},
   "outputs": [],
   "source": [
    "x[0:5]"
   ]
  },
  {
   "cell_type": "markdown",
   "id": "7f7ab722-2ea7-4704-87ed-c324bc75ba19",
   "metadata": {},
   "source": [
    "Set initial concentration profile for the model\n",
    "The concentration `C` is a step function\n",
    "with a high value on the left, \n",
    "a low value on the right\n",
    "and the step at the center of the domain"
   ]
  },
  {
   "cell_type": "code",
   "execution_count": null,
   "id": "76696485-f2f6-44e3-9cb5-2fc52dd604ee",
   "metadata": {},
   "outputs": [],
   "source": [
    "C = np.zeros_like(x)\n",
    "C_left = 500\n",
    "C_right = 0\n",
    "C[x <= Lx//2] = C_left #// indicates integer division\n",
    "C[x > Lx//2] = C_right"
   ]
  },
  {
   "cell_type": "markdown",
   "id": "6f2f7a41-01e1-4734-9536-0116d08ed7c2",
   "metadata": {},
   "source": [
    "## Plot initial profile"
   ]
  },
  {
   "cell_type": "code",
   "execution_count": null,
   "id": "65c14cdb-c460-45fa-acb7-7e662da18f5f",
   "metadata": {},
   "outputs": [],
   "source": [
    "plt.figure()\n",
    "plt.plot(x, C, \"r\")\n",
    "plt.xlabel(\"x\")\n",
    "plt.ylabel(\"C\")\n",
    "plt.title(\"Initial concentration profile\")"
   ]
  },
  {
   "cell_type": "markdown",
   "id": "35b7f832-6646-4f9c-9c49-5b056a65ad62",
   "metadata": {},
   "source": [
    "## Setting start time of the model and the number of time steps\n",
    "Calculate a stable timestep for model using a stability criterion"
   ]
  },
  {
   "cell_type": "code",
   "execution_count": null,
   "id": "cc17d15e-1446-482c-b4bb-b388337b150f",
   "metadata": {},
   "outputs": [],
   "source": [
    "time = 0\n",
    "nt = 5000\n",
    "dt = 0.5 * (dx**2 / D)"
   ]
  },
  {
   "cell_type": "code",
   "execution_count": null,
   "id": "222fb6f5-5277-4477-b474-a8ad5bd9e8f9",
   "metadata": {},
   "outputs": [],
   "source": [
    "dt\n"
   ]
  },
  {
   "cell_type": "markdown",
   "id": "419a8831-8f41-4957-9a5e-0ebaf62c9e66",
   "metadata": {},
   "source": [
    "Loop over time steps of model, \n",
    "solving the diffusion equation using the FTCS explicit scheme described above\n",
    "The boundary conditions are fixed, so reset them at each time step"
   ]
  },
  {
   "cell_type": "code",
   "execution_count": null,
   "id": "e1e13699-3bee-4e63-8180-5d7476aaafa8",
   "metadata": {},
   "outputs": [],
   "source": [
    "for t in range(0, nt):\n",
    "    C += D * dt / dx**2 * (np.roll(C, -1) - 2*C + np.roll(C,1))\n",
    "    C[0] = C_left\n",
    "    C[-1] = C_right"
   ]
  },
  {
   "cell_type": "markdown",
   "id": "8a5f4ab9-7795-4096-b2ab-d5dbc14dfd84",
   "metadata": {},
   "source": [
    "Create the figure"
   ]
  },
  {
   "cell_type": "code",
   "execution_count": null,
   "id": "a81e5529-8af3-4936-8b1f-038b4b876fe6",
   "metadata": {},
   "outputs": [],
   "source": [
    "plt.figure()\n",
    "plt.plot(x, C, \"b\")\n",
    "plt.xlabel(\"x\")\n",
    "plt.ylabel(\"C\")\n",
    "plt.title(\"final concentration profile\")"
   ]
  }
 ],
 "metadata": {
  "kernelspec": {
   "display_name": "CSDMS",
   "language": "python",
   "name": "csdms"
  },
  "language_info": {
   "codemirror_mode": {
    "name": "ipython",
    "version": 3
   },
   "file_extension": ".py",
   "mimetype": "text/x-python",
   "name": "python",
   "nbconvert_exporter": "python",
   "pygments_lexer": "ipython3",
   "version": "3.12.7"
  }
 },
 "nbformat": 4,
 "nbformat_minor": 5
}
